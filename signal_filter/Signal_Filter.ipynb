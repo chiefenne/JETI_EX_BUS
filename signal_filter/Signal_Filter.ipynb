{
 "cells": [
  {
   "cell_type": "markdown",
   "metadata": {},
   "source": [
    "# Signal Filter Design for JETI"
   ]
  },
  {
   "cell_type": "code",
   "execution_count": null,
   "metadata": {
    "vscode": {
     "languageId": "plaintext"
    }
   },
   "outputs": [],
   "source": [
    "import numpy as np\n",
    "import matplotlib.pyplot as plt\n",
    "import random\n",
    "from scipy.optimize import minimize\n",
    "from scipy.optimize import Bounds"
   ]
  },
  {
   "cell_type": "code",
   "execution_count": null,
   "metadata": {
    "vscode": {
     "languageId": "plaintext"
    }
   },
   "outputs": [],
   "source": [
    "def double_exponential_filter(altitude,\n",
    "                              old_altitude_1,\n",
    "                              old_altitude_2,\n",
    "                              old_climb_rate,\n",
    "                              tau_1, tau_2, dyn_alpha_divisor,\n",
    "                              delta_t):\n",
    "\n",
    "        alfa_1 = delta_t / (tau_1 + delta_t)\n",
    "        alfa_2 = delta_t / (tau_2 + delta_t)\n",
    "\n",
    "        smoothed_altitude_1 = old_altitude_1 - alfa_1 * (old_altitude_1 - altitude)\n",
    "        smoothed_altitude_2 = old_altitude_2 - alfa_2 * (old_altitude_2 - altitude)\n",
    "\n",
    "        # calc default gain from time constants chosen\n",
    "        factor = 1 / (tau_2 - tau_1 + 1.e-9)\n",
    "\n",
    "        climb_rate = (smoothed_altitude_1 - smoothed_altitude_2) * factor\n",
    "\n",
    "        dyn_alpha = abs((old_climb_rate - climb_rate) / dyn_alpha_divisor)\n",
    "        dyn_alpha = min(dyn_alpha, 1.0)\n",
    "        smoothed_climb_rate = old_climb_rate - dyn_alpha * (old_climb_rate - climb_rate)\n",
    "\n",
    "        return smoothed_altitude_1, smoothed_altitude_2, smoothed_climb_rate\n"
   ]
  },
  {
   "cell_type": "code",
   "execution_count": null,
   "metadata": {
    "vscode": {
     "languageId": "plaintext"
    }
   },
   "outputs": [],
   "source": []
  }
 ],
 "metadata": {
  "language_info": {
   "name": "python"
  }
 },
 "nbformat": 4,
 "nbformat_minor": 2
}
